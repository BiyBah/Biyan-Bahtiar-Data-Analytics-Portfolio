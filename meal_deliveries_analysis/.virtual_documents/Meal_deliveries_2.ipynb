


import warnings
warnings.filterwarnings(action='ignore')


import math
import numpy as np
import pandas as pd
import matplotlib.pyplot as plt
import seaborn as sns
from matplotlib.gridspec import GridSpec
import lightgbm as lgb
from statsmodels.graphics.tsaplots import plot_acf, plot_pacf
from scipy.stats import f_oneway
from statsmodels.stats.multicomp import pairwise_tukeyhsd
from sklearn.linear_model import LinearRegression
from sklearn.metrics import mean_absolute_error
from statsmodels.tsa.stattools import pacf
from sklearn.model_selection import RandomizedSearchCV








import pandas as pd
deliveries = pd.read_csv('meal_deliveries.csv').sort_values(by='week')
deliveries

















round(deliveries.isna().sum()/len(deliveries)*100,2)








deliveries.info()


deliveries.duplicated().sum()


deliveries.duplicated(subset=('id')).sum()


deliveries.duplicated(subset=['center_id', 'meal_id', 'week']).sum()








deliveries.info()








col = list(set(deliveries.select_dtypes(include=['object', 'int64']).columns.to_list()) - set(['id','orders', 'week']))
for i in col:
  print(f'========{i}: {deliveries[i].nunique()} unique values========')
  print(deliveries[i].value_counts(), '\n')


num_col = list(deliveries.select_dtypes('float64').columns)
num_col.append('orders')

for i in num_col:
  fig, ax = plt.subplots(nrows=1, ncols=2, figsize=(20,7))
  ax[0].boxplot(deliveries[i])

  ax[1].hist(deliveries[i])

  fig.suptitle(f'{i}, mean:{deliveries[i].mean()}, median:{deliveries[i].median()}')
  print('\n')
  plt.show()


deliveries.query("orders > 10000").sort_values(by='orders', ascending=False)


sns.scatterplot(data=deliveries, x='week', y='orders')








deliveries['sales'] = deliveries['orders'] * deliveries['checkout_price']
deliveries['discount'] = (deliveries['checkout_price'] - deliveries['base_price'])/deliveries['base_price']*100








deliveries.info()


deliveries.select_dtypes('object').describe()


deliveries.select_dtypes('float64').describe().round(2)


deliveries[col].astype('str').describe().round(2)


print("{:,}".format(deliveries['sales'].sum().round(2)))


print("{:,}".format(deliveries['orders'].sum().round(2)))


print(deliveries['sales'].sum()/deliveries['orders'].sum())


deliveries['cuisine'].unique()


deliveries['category'].unique()


deliveries['meal_id'].nunique()


chart = deliveries['emailer'].value_counts(normalize=True)*100

chart.plot(kind='bar')
plt.title("Emailer")
for i in chart.index:
  plt.text(i, chart[i], round(chart[i],2), horizontalalignment='center')


chart = deliveries['featured'].value_counts(normalize=True)*100

chart.plot(kind='bar')
plt.title("Featured")
for i in chart.index:
  plt.text(i, chart[i], round(chart[i],2), horizontalalignment='center')





deliveries['category'].unique()


temp_df = deliveries.groupby(['region_code', 'category'],as_index=False).agg({'orders':'sum'})

food_categories = ['Pasta', 'Beverages', 'Pizza', 'Other Snacks', 'Rice Bowl', 
                   'Desert', 'Starters', 'Seafood', 'Soup', 'Sandwich', 
                   'Extras', 'Biryani', 'Salad', 'Fish']

palet = sns.color_palette('Paired', len(food_categories))
color_dict = dict(zip(food_categories, palet))

# Count the number of regions
num_regions = temp_df['region_code'].nunique()
num_cols = math.ceil(num_regions / 3)  # Ensure only 3 rows
fig, axes = plt.subplots(nrows=3, ncols=num_cols, figsize=(5*num_cols, 5*3))
axes = axes.flatten()  # Flatten the axes array to iterate easily

# Loop through each region and plot on the corresponding subplot
for idx, region in enumerate(temp_df['region_code'].unique()):
    temp_df_i = temp_df[temp_df['region_code'] == region].sort_values(by='orders', ascending=False).nlargest(n=5, columns='orders')
    
    ax = axes[idx]  # Select the correct subplot
    ax.set_title(f"Region: {region}", fontsize=16)
    
    barplot = sns.barplot(data=temp_df_i, x='orders', y='category', hue='category', ax=ax, palette=color_dict, dodge=False)
    
    # Add text labels inside the end of each bar
    for index, value in enumerate(temp_df_i['orders']):
        ax.text(value - 10, index, f'{value:,.0f}', color='black', ha="right", va='center')

# Remove any extra axes (if any)
for i in range(idx + 1, len(axes)):
    fig.delaxes(axes[i])

plt.suptitle("Popular Food Category in Each Region\n", fontsize=20)
plt.tight_layout()

# Save the figure as a PNG file
fig.savefig("Popular Food Category in Each Region.png", dpi=300, bbox_inches='tight')

plt.show()


temp_df = deliveries.groupby(['week', 'region_code', 'category'],as_index=False).agg({'orders':'sum'})

for i in temp_df['region_code'].unique():
  temp_df_i = temp_df[temp_df['region_code']==i]
  top5 = temp_df_i.groupby('category', as_index=False).agg({'orders':'sum'}).nlargest(n=5, columns='orders')['category']

  temp_df_i = temp_df_i[temp_df_i['category'].isin(top5)]
  fig, ax = plt.subplots(figsize=(20,7))
  plt.title(f"Region: {i}", fontsize=20)
  sns.lineplot(data=temp_df_i, x='week', y='orders', hue='category', ax=ax, palette=palet[:5], marker='o')

  plt.show()








deliveries.info()





area_cid = deliveries[['center_id', 'op_area']].sort_values(by='center_id')
area_cid





area_ctype = deliveries.groupby(['center_type', 'center_id', 'week'], as_index=False).agg({'op_area':'mean'}).sort_values(by='op_area', ascending=False)

sns.boxplot(data=area_ctype, y='op_area', x='center_type', hue='center_type',palette='tab10')

for i,v in enumerate(area_ctype['center_type'].unique()):
  y = area_ctype[area_ctype['center_type']==v]['op_area'].values
  plt.text(i, np.median(y),
           f'median: {round(np.median(y),2)}\n max: {np.max(y)}\n',
           horizontalalignment='center',
           verticalalignment='center',
           color='white',
           fontsize=10)

plt.title('Average Area Covered per Center type')
plt.show()








cuisine_ctype = deliveries.groupby(['center_type', 'cuisine'], as_index=False).agg({'orders':'sum'})

sns.barplot(data=cuisine_ctype, x='center_type', y='orders', hue='cuisine', palette='viridis')
plt.show()





category_ctype = deliveries.groupby(['center_type', 'category'], as_index=False).agg({'orders':'sum'})

sns.barplot(data=category_ctype, x='center_type', y='orders', hue='category', palette='tab20')
plt.show()





deliveries.info()


city_fulfil = deliveries.groupby('city_code', as_index=False)\
                        .agg({'center_id':pd.Series.nunique})\
                        .rename(columns={'center_id':'center_count'})
                                                            
city_fulfil_3_up = city_fulfil[city_fulfil['center_count']>3]

city_fulfil_3_up





order_excl_526_590 = deliveries[~deliveries['city_code'].isin(city_fulfil_3_up['city_code'])]

order_ctype = order_excl_526_590.groupby(['center_type','center_id','week'], as_index=False).agg({'orders':'sum'})

fig, ax= plt.subplots(figsize=(7,7))
ax.set_title("Orders Handled by Center Type per Week \nExcl. City Code 526 and 590", fontsize=20)
sns.boxplot(data=order_ctype, x='center_type', y='orders', hue='center_type', palette='viridis', ax=ax)

for i,v in enumerate(order_ctype['center_type'].unique()):
  y = order_ctype[order_ctype['center_type']==v]['orders'].values
  plt.text(i, np.median(y),
           f'median: {round(np.median(y),2)}\n max:{np.max(y)}\n',
           horizontalalignment='center',
           verticalalignment='center',
           color='white',
           fontsize=10)
ax.grid(False)

plt.show()


order_incl_526_590 = deliveries[deliveries['city_code'].isin(city_fulfil_3_up['city_code'])]

order_ctype = order_incl_526_590.groupby(['center_type','center_id','week'], as_index=False).agg({'orders':'sum'})

fig, ax= plt.subplots(figsize=(7,7))
ax.set_title("Orders Handled by Center Type per Week \nOnly. in City Code 526 and 590", fontsize=20)
sns.boxplot(data=order_ctype, x='center_type', y='orders', palette='viridis', ax=ax)

for i,v in enumerate(order_ctype['center_type'].unique()):
  y = order_ctype[order_ctype['center_type']==v]['orders'].values
  plt.text(i, np.median(y),
           f'median: {round(np.median(y),2)}\n max:{np.max(y)}\n',
           horizontalalignment='center',
           verticalalignment='center',
           color='white',
           fontsize=10)
ax.grid(False)

plt.show()








# Subset for city codes 526 and 590
order_526_590 = deliveries[deliveries['city_code'].isin([526, 590])]

# Group by week, city_code, center_type, and center_id
order_526_590_group = order_526_590.groupby(['week', 'city_code', 'center_type', 'center_id']).agg({'orders': 'sum'}).reset_index()

# Define target horizontal lines for each center_type
horizontal_lines = {
    'C': 15531,
    'B': 21744,
    'A': 22672
}

# Loop through each city code
for city in order_526_590_group['city_code'].unique():
    temp_dfcity = order_526_590_group[order_526_590_group['city_code'] == city]
    
    # Loop through each center type
    for ctype in temp_dfcity['center_type'].unique():
        temp_dfctype = temp_dfcity[temp_dfcity['center_type'] == ctype]
        
        # Determine the number of center_ids
        num_center_ids = temp_dfctype['center_id'].nunique()
        
        # Create a figure with GridSpec
        fig = plt.figure(figsize=(16, 3 * (num_center_ids)))  # Adjust height based on number of center_ids
        gs = GridSpec(num_center_ids, 2, width_ratios=[1, 3])  # 1/4 width for boxplot, 3/4 for lineplots

        # Create the boxplot on the left (1st column)
        ax_boxplot = fig.add_subplot(gs[:, 0])  # This will span all rows on the left column
        sns.boxplot(data=temp_dfctype, x='center_id', y='orders', hue='center_id', palette='tab10', ax=ax_boxplot)

        # Add horizontal lines for max orders allowed and half max orders allowed in the boxplot
        if ctype in horizontal_lines:
            ax_boxplot.axhline(y=horizontal_lines[ctype], color='red', linestyle='--', label=f'Max Order Allowed for Type {ctype}')
            ax_boxplot.axhline(y=horizontal_lines[ctype]/2, color='green', linestyle='--', label=f'Half Max Order Allowed for Type {ctype}')
        
        # Set title and labels for the boxplot
        ax_boxplot.set_title(f'City Code: {city}, Center Type: {ctype} (Boxplot)', fontsize=16)
        ax_boxplot.set_ylabel('Orders')
        ax_boxplot.set_xlabel('Center ID')
        ax_boxplot.legend(title='Center ID')

        # Create individual line plots for each center_id in the second column
        for i, center_id in enumerate(temp_dfctype['center_id'].unique()):
            center_data = temp_dfctype[temp_dfctype['center_id'] == center_id].sort_values(by='week')

            # Create a subplot for each center_id in the second column
            ax_lineplot = fig.add_subplot(gs[i, 1])  # Each line plot gets its own row on the second column
            
            # Plot orders
            sns.lineplot(data=center_data, x='week', y='orders', ax=ax_lineplot, label=f'Center {center_id} Orders', marker='o', color='blue')

            # Calculate and plot the moving average
            center_data['MA'] = center_data['orders'].rolling(16).mean()
            sns.lineplot(data=center_data, x='week', y='MA', ax=ax_lineplot, label=f'Center {center_id} MA (16-week)', linestyle='--', color='orange')

            # Add horizontal line for max orders allowed based on center_type
            if ctype in horizontal_lines:
                ax_lineplot.axhline(y=horizontal_lines[ctype], color='red', linestyle='--', label=f'Max Order Allowed ({horizontal_lines[ctype]})')

            # Set title and labels for the line plot
            ax_lineplot.set_title(f'Order History for Center ID: {center_id}', fontsize=16)
            ax_lineplot.set_ylabel('Orders')
            ax_lineplot.set_xlabel('Week')
            ax_lineplot.legend()

        # Save the figure as PNG
        fig.savefig(f"Order_Handled_City_{city}_Type_{ctype}.png", dpi=300, bbox_inches='tight', pad_inches = 0.2)

        # Adjust layout and show the plots
        plt.tight_layout()
        plt.show()












deliveries.info()





tes = deliveries[deliveries['meal_id']==1109].groupby(['week','meal_id'], as_index=False).agg({'emailer':'mean'})
tes[(tes['emailer']>0)&(tes['emailer']<1)]


tes = deliveries[deliveries['meal_id']==1109].groupby(['week','meal_id'], as_index=False).agg({'featured':'mean'})
tes[(tes['featured']>0)&(tes['featured']<1)]





deliveries.columns


deliveries_meal_specified = deliveries[deliveries['meal_id']==2139]

weekly_meal_specified = deliveries_meal_specified.groupby('week',as_index=False).agg({'orders':'sum', 'sales':'sum', 'emailer':'mean', 'featured':'mean'})

fig, ax = plt.subplots(figsize=(20,14), nrows = 4, ncols = 1)
ax[0].plot(weekly_meal_specified['week'], weekly_meal_specified['sales'])
ax[0].set_title('sales')
ax[1].plot(weekly_meal_specified['week'], weekly_meal_specified['orders'])
ax[1].set_title('orders')
ax[2].plot(weekly_meal_specified['week'], weekly_meal_specified['emailer'])
ax[2].set_title('emailer')
ax[3].plot(weekly_meal_specified['week'], weekly_meal_specified['featured'])
ax[3].set_title('featured')

plt.show()


deliveries_meal_specified = deliveries[deliveries['meal_id']==2139]

for i in deliveries['region_code'].unique():
    region_specified = deliveries_meal_specified[deliveries_meal_specified['region_code']==i]
    weekly_region_specified =region_specified.groupby('week',as_index=False)\
                                                      .agg({'orders':'sum', 'sales':'sum', 'emailer':'mean', 'featured':'mean'})

    fig, ax = plt.subplots(figsize=(20,14), nrows = 4, ncols = 1)
    fig.suptitle(f'{i}')
    ax[0].plot(weekly_region_specified['week'], weekly_region_specified['sales'])
    ax[0].set_title('sales')
    ax[1].plot(weekly_region_specified['week'], weekly_region_specified['orders'])
    ax[1].set_title('orders')
    ax[2].plot(weekly_region_specified['week'], weekly_region_specified['emailer'])
    ax[2].set_title('emailer')
    ax[3].plot(weekly_region_specified['week'], weekly_region_specified['featured'])
    ax[3].set_title('featured')

    plt.show()


deliveries_meal_specified = deliveries[deliveries['meal_id']==2139]

for i in deliveries['city_code'].unique():
    city_specified = deliveries_meal_specified[deliveries_meal_specified['city_code']==i]
    weekly_city_specified =city_specified.groupby('week',as_index=False)\
                                                      .agg({'emailer':'mean', 'featured':'mean'})

    fig, ax = plt.subplots(figsize=(10,6), nrows = 2, ncols = 1)
    fig.suptitle(f'City: {i}')
    ax[0].plot(weekly_city_specified['week'], weekly_city_specified['emailer'])
    ax[0].set_title('emailer')
    ax[1].plot(weekly_city_specified['week'], weekly_city_specified['featured'])
    ax[1].set_title('featured')

    plt.show()





deliveries.columns


print(deliveries['emailer'].unique())
print(deliveries['emailer'].dtype)


print(deliveries['featured'].unique())
print(deliveries['featured'].dtype)


promo_analysis_df = deliveries.copy()

email_only = (promo_analysis_df['emailer']==1)&(promo_analysis_df['featured']==0)
featured_only = (promo_analysis_df['emailer']==0)&(promo_analysis_df['featured']==1)
both_promo = (promo_analysis_df['emailer']==1)&(promo_analysis_df['featured']==1)
none_promo = (promo_analysis_df['emailer']==0)&(promo_analysis_df['featured']==0)

conditions = [email_only, featured_only, both_promo, none_promo]

promo_cat = [1, 2, 3, 0]

promo_analysis_df['promotion'] = np.select(conditions, promo_cat)

promo_analysis_df[['emailer','featured','promotion']].head()


promo_analysis_df.groupby('promotion')[['sales']].mean()





grouped_by_promo = promo_analysis_df.groupby(['meal_id', 'promotion'])[['sales']]

def detect_outliers_by_promo(df):
    Q1 = df['sales'].quantile(0.25)
    Q3 = df['sales'].quantile(0.75)
    IQR = Q3 - Q1
    lower_bound = Q1 - 1.5 * IQR
    upper_bound = Q3 + 1.5 * IQR
    return df[(df['sales'] < lower_bound) | (df['sales'] > upper_bound)]

# Detect outliers for each meal_id and promotion_type group
outliers_by_promo = grouped_by_promo.apply(detect_outliers_by_promo)

# Optionally, remove the outliers
def remove_outliers_by_promo(df):
    outliers = detect_outliers_by_promo(df)
    return df[~df.isin(outliers)]

cleaned_promo_analysis_df = grouped_by_promo.apply(remove_outliers_by_promo)





cleaned_promo_analysis_df.reset_index(inplace=True)


cleaned_promo_analysis_df=cleaned_promo_analysis_df[['meal_id','promotion','sales']]


cleaned_promo_analysis_df=cleaned_promo_analysis_df[cleaned_promo_analysis_df['sales'].notna()]


# Function to calculate the one-way ANOVA, Tukey HSD, and mean for each promotion group
def anova_per_meal(meal_data):
    # Group sales by promotion type
    group_0 = meal_data[meal_data['promotion'] == 0]['sales']
    group_1 = meal_data[meal_data['promotion'] == 1]['sales']
    group_2 = meal_data[meal_data['promotion'] == 2]['sales']
    group_3 = meal_data[meal_data['promotion'] == 3]['sales']
    
    # Check if each group has at least two non-identical data points
    groups = [group_0, group_1, group_2, group_3]
    valid_groups = [group for group in groups if len(group) > 1 and group.nunique() > 1]
    
    # Perform one-way ANOVA only if there are at least two valid groups
    if len(valid_groups) >= 2:
        f_stat, p_value = f_oneway(*valid_groups)
    else:
        p_value = float('NaN')  # Set NaN if ANOVA cannot be performed
    
    # Calculate means for each promotion group
    mean_0 = group_0.mean() if not group_0.empty else None
    mean_1 = group_1.mean() if not group_1.empty else None
    mean_2 = group_2.mean() if not group_2.empty else None
    mean_3 = group_3.mean() if not group_3.empty else None

    tukey_result = "Not significant"  # Default result if no Tukey test is done

    # Perform Tukey HSD test if p-value < 0.05
    if p_value < 0.05:
        # Combine sales and promotion columns for Tukey HSD test
        tukey_data = meal_data[['sales', 'promotion']].dropna()
        tukey_test = pairwise_tukeyhsd(endog=tukey_data['sales'],
                                       groups=tukey_data['promotion'],
                                       alpha=0.05)
        tukey_result = tukey_test.summary().as_html()
        try:
            tukey_result = pd.read_html(tukey_result, header=0, index_col=0)[0].reset_index()
            tukey_result = tukey_result[tukey_result['reject']==True][['group1', 'group2']].values.tolist()
        except:
            pass
            
    return pd.Series({
        'mean_none': mean_0,
        'mean_email': mean_1,
        'mean_featured': mean_2,
        'mean_both': mean_3,
        'p_value': p_value,
        'tukey_result': tukey_result
    })

# Apply the function for each meal_id
result_df = cleaned_promo_analysis_df.groupby('meal_id').apply(anova_per_meal).reset_index()

# Display the result
display(result_df)


# manually input the best promo
result_df['best'] = [
    'featured', #1062
    'both', #1109
    'none', #1198
    'both', #1207
    'email', #1216
    'both', #1230
    'none', #1247
    'both', #1248
    'none', #1311
    'featured', #1438
    'both', #1445
    'featured', #1525
    'both', #1543
    'both', #1558
    'featured', #1571
    'email', #1727
    'both', #1754
    'featured', #1770
    'featured', #1778
    'featured', #1803
    'featured', #1847
    'both', #1878
    'featured', #1885
    'none', #1902
    'both', #1962
    'both', #1971
    'featured', #1993
    'featured', #2104
    'both', #2126
    'featured', #2139
    'both', #2290
    'both', #2304
    'both', #2306
    'both', #2322
    'both', #2444
    'both', #2490
    'both', #2492
    'featured', #2494
    'featured', #2539
    'both', #2569
    'both', #2577
    'both', #2581
    'both', #2631
    'both', #2640
    'both', #2664
    'featured', #2704
    'featured', #2707
    'featured', #2760
    'both', #2826
    'featured', #2867
    'both' #2956
]

result_df.to_excel("promo_analysis.xlsx")
display(result_df)











deliveries.columns


# Weekly Average order per meal per city, is there average order less than 1
raw_forecast = deliveries.copy()

average_order_meal_city = raw_forecast.groupby(['city_code', 'meal_id'])[['orders']].mean()
average_order_meal_city['mean_under_1'] = np.where(average_order_meal_city['orders']<1, 1, 0)
(average_order_meal_city['mean_under_1']>0).any()


# Weekly minimum order per meal per city, is there minimum order less than 1
min_order_meal_city = raw_forecast.groupby(['city_code', 'meal_id'])[['orders']].min()
min_order_meal_city['min_under_1'] = np.where(min_order_meal_city['orders']<1, 1, 0)
(min_order_meal_city['min_under_1']>0).any()


# How many cities
city_count = deliveries['city_code'].nunique()
print(f"Cities: {city_count}")

# How many meal_id
meal_id_count = deliveries['meal_id'].nunique()
print(f"Meal: {meal_id_count}")

# How many permutation
print(f"{city_count*meal_id_count}")


#how many weeks
deliveries['week'].nunique()








# Create dataset for each city and meal_id per week, add columns for emailer, featured and discount.
forecast_data = raw_forecast[['week', 'meal_id', 'city_code', 'emailer', 'featured', 'discount', 'orders','sales']]\
                .groupby(['week', 'meal_id', 'city_code'],as_index=False)\
                .agg({'orders':'sum','emailer':'max', 'featured':'max', 'discount':'min'})
forecast_data.head()


weeks_series = pd.DataFrame({'week': [i for i in range(1, 146, 1)]})
meal_id_series = pd.DataFrame({'meal_id':forecast_data['meal_id'].unique()})
city_code_series = pd.DataFrame({'city_code':forecast_data['city_code'].unique()})

base_wm = pd.merge(weeks_series, meal_id_series, how='cross')
base_wmc = pd.merge(base_wm, city_code_series, how='cross')

forecast_data_new = base_wmc.merge(forecast_data, on=['week', 'meal_id', 'city_code'], how='left').fillna(0)
forecast_data_new.head()


# Step 1: Define function to create lag features
def create_lag_features(data, lags):
    if lags is None:
        return data
    for lag in lags:
        data[f'lag_{lag}'] = data['orders'].shift(lag)
    return data

# Step 2: Moving Average 3 function
def ma3(data): 
    data['ma3'] = data['orders'].rolling(3).mean().shift(1)
    data['ma3'] = data['ma3'].fillna(0)
    return data

# Step 3: Forecast function with visualization and LightGBM
def forecast_meal(train_df, forecast_df, plot=True):
    """
    Function to forecast inputted dataframe using linear regression, LightGBM and naive prediction, with comparison plots.
    
    Parameters:
        train_df(pandas.core.frame.DataFrame): Training data with required columns (see docstring).
        forecast_df(pandas.core.frame.DataFrame): Current data to forecast with required columns (see docstring).
        plot(bool, default: True): If True, generate comparison line plots.
    
    Returns:
        result_df(pandas.core.frame.DataFrame): Results including forecasted and actual orders, along with MAE.
    """
    # Test parameter input if None
    if train_df is None:
        print('No train_df')
        return

    if forecast_df is None:
        print('No forecast data')
        return
        
    # Test required column
    train_req_col = ['week','meal_id','city_code', 'emailer', 'featured', 'discount', 'orders']
    forecast_req_col = ['meal_id', 'city_code', 'emailer', 'featured', 'discount']

    if not all(col in train_df.columns for col in train_req_col):
        print("Wrong input! Please read the docstring!")
        return

    if not all(col in forecast_df.columns for col in forecast_req_col):
        print("Wrong input! Please read the docstring!")
        return

    # Try to convert column content into numeric
    try:
        train_df = train_df[train_req_col].apply(pd.to_numeric)
        forecast_df = forecast_df[forecast_req_col].apply(pd.to_numeric)
    except:
        print("Data can't be converted into number! Read the docstring!")
        return

    # Check if same meal_id and city_code combination exists in both df
    check_df = train_df[['meal_id', 'city_code']].drop_duplicates(subset=['meal_id', 'city_code'])
    if not all(id_list in check_df[['meal_id', 'city_code']].values for id_list in forecast_df[['meal_id', 'city_code']].values):
        print("Missing some combination of meal_id and city_code! Check the docstring!")
        return

    # The machine learning part
    results = []
    test_size = 0.2

    # Loop through each meal_id and city combination
    for meal_id, city in forecast_df[['meal_id', 'city_code']].values:
        select_meal = train_df['meal_id'] == meal_id
        select_city = train_df['city_code'] == city
        group = train_df[select_meal & select_city]
        group = group.sort_values('week').reset_index(drop=True)
    
        # Step 4: Create lag features based on PACF with confidence interval
        pacf_values, confint = pacf(group['orders'], nlags=52, alpha=0.05)
        lower_conf = confint[:, 0]
        upper_conf = confint[:, 1]
        best_lags = [lag for lag, val in enumerate(pacf_values) if val < lower_conf[lag] or val > upper_conf[lag]]
    
        group = create_lag_features(group, best_lags)
        group = group.dropna()
    
        # Train-test split
        train_size = int(len(group) * (1 - test_size))
        train, test = group[:train_size], group[train_size:]
    
        # Naive forecast
        test = ma3(group)[train_size:]
    
        # Train linear regression
        X_train = train.drop(columns=['orders', 'meal_id', 'city_code'])
        y_train = train['orders']
        X_test = test.drop(columns=['orders', 'ma3', 'meal_id', 'city_code'])
        y_test = test['orders']
    
        # Linear Regression
        lr_model = LinearRegression()
        lr_model.fit(X_train, y_train)
        test['lr_forecast'] = lr_model.predict(X_test)
    
        # LightGBM with Random Search
        lgb_model = lgb.LGBMRegressor(random_state=42, verbosity=-1)
        param_dist = {
            'num_leaves': [31, 50, 70],
            'learning_rate': [0.01, 0.05, 0.1],
            'n_estimators': [100, 200, 300],
            'max_depth': [5, 7, 10],
        }
        random_search = RandomizedSearchCV(lgb_model, param_distributions=param_dist, n_iter=10, 
                                           cv=3, random_state=42, scoring='neg_mean_absolute_error')
        random_search.fit(X_train, y_train)
        test['lgb_forecast'] = random_search.predict(X_test)
    
        # MAE calculation
        naive_mae = mean_absolute_error(test['orders'], test['ma3'])
        lr_mae = mean_absolute_error(test['orders'], test['lr_forecast'])
        lgb_mae = mean_absolute_error(test['orders'], test['lgb_forecast'])
    
        # Step 9: Predict on real data (forecast_df)
        subset_forecast = forecast_df[(forecast_df['meal_id'] == meal_id) & (forecast_df['city_code'] == city)]
        subset_forecast['week'] = train_df['week'].max() + 1
    
        for lag in best_lags:
            if lag is None:
                break
            subset_forecast[f'lag_{lag}'] = subset_forecast.apply(
                lambda row: train_df[(train_df['meal_id'] == row['meal_id']) & 
                                     (train_df['city_code'] == row['city_code']) & 
                                     (train_df['week'] == (row['week'] - lag))]['orders'].values[0]
                if len(train_df[(train_df['meal_id'] == row['meal_id']) & 
                                (train_df['city_code'] == row['city_code']) & 
                                (train_df['week'] == (row['week'] - lag))]['orders']) > 0
                else 0, axis=1
            )
    
        subset_forecast = subset_forecast.dropna()
        X_forecast = subset_forecast[X_train.columns]

        pred_lr = lr_model.predict(X_forecast)[0]
        pred_naive = group[group['week'] == group['week'].max()]['orders'].values[0]
        pred_lgb = random_search.predict(X_forecast)[0]

        results.append({
            'meal_id': meal_id,
            'city': city,
            'emailer': subset_forecast['emailer'].values[0],
            'featured': subset_forecast['featured'].values[0],
            'discount': subset_forecast['discount'].values[0],
            'pred_naive': pred_naive,
            'pred_lr': pred_lr,
            'pred_lgb': pred_lgb,
            'naive_mae': naive_mae,
            'lr_mae': lr_mae,
            'lgb_mae': lgb_mae
        })

        # Step 10: Plot comparison if requested
        if plot:
            plt.figure(figsize=(10, 6))
            sns.lineplot(x=test['week'], y=test['orders'], label='Test Orders', marker='o')
            sns.lineplot(x=test['week'], y=test['ma3'], label='Moving Average 3', marker='o')
            sns.lineplot(x=test['week'], y=test['lr_forecast'], label='LR Forecast', marker='o')
            sns.lineplot(x=test['week'], y=test['lgb_forecast'], label='LGBM Forecast', marker='o')

            # Add annotations for discount, emailer, and featured
            for i in range(len(test)):
                week = test['week'].iloc[i]
                discount = test['discount'].iloc[i].round(2)
                emailer = test['emailer'].iloc[i]
                featured = test['featured'].iloc[i]
                
                # Annotation text (discount, emailer, featured)
                annotation = f"{discount}\n, {emailer}\n, {featured}"
                
                # Place the annotation above the corresponding 'orders' value
                plt.text(week, test['orders'].iloc[i] + 0.05, annotation, 
                         horizontalalignment='center', fontsize=6, color='black')

            plt.title(f'Forecast Comparison for Meal ID: {meal_id} and City: {city}')
            plt.xlabel('Week')
            plt.ylabel('Orders')
            plt.legend()
            plt.show()


    return pd.DataFrame(results)


# Create forecast with real data
forecast_real = pd.DataFrame({
    'meal_id':[1062, 1062],
    'city_code':[473, 456],
    'emailer':[1, 1],
    'featured':[1, 1],
    'discount':[-0.3, -0.3]
})

# Step 11: Call the function and pass your dataframe
result_df = forecast_meal(forecast_data_new, forecast_real)

# Step 12: View results
display(result_df)
